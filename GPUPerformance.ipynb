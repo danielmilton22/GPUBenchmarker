{
 "cells": [
  {
   "cell_type": "code",
   "execution_count": null,
   "metadata": {},
   "outputs": [],
   "source": [
    "## imports\n",
    "import tensorflow as tf\n",
    "from fastai.vision.all import *\n",
    "import torch\n",
    "import time"
   ]
  },
  {
   "cell_type": "markdown",
   "metadata": {},
   "source": [
    "## TensorFlow Approach"
   ]
  },
  {
   "cell_type": "code",
   "execution_count": null,
   "metadata": {},
   "outputs": [],
   "source": [
    "# Loading in the CIFAR-10 dataset (found it to be much more convienent to use a tf dataset)\n",
    "(x_train, _), (_, _) = tf.keras.datasets.cifar10.load_data()\n",
    "\n",
    "# Load the pre-trained ResNet50 model\n",
    "model = tf.keras.applications.ResNet50(weights=\"imagenet\")\n",
    "\n",
    "# number of images to perform inference on\n",
    "num_images = 10000\n",
    "\n",
    "# Create a list to store the inference times\n",
    "inference_times = []"
   ]
  },
  {
   "cell_type": "code",
   "execution_count": null,
   "metadata": {},
   "outputs": [],
   "source": [
    "# Perform inference on the images and measure the inference time\n",
    "for i in range(num_images):\n",
    "    # Preprocess the image\n",
    "    img = tf.image.resize(x_train[i], (224, 224))\n",
    "    img = tf.expand_dims(img, axis=0)\n",
    "\n",
    "    # Perform inference and measure the time\n",
    "    start_time = time.time()\n",
    "    preds = model.predict(img)\n",
    "    end_time = time.time()\n",
    "\n",
    "    # Calculate the inference time in milliseconds\n",
    "    inference_time = (end_time - start_time) * 1000\n",
    "\n",
    "    # Add the inference time to the list\n",
    "    inference_times.append(inference_time)"
   ]
  },
  {
   "cell_type": "code",
   "execution_count": null,
   "metadata": {},
   "outputs": [],
   "source": [
    "# Calculate the average/total inference time\n",
    "average_inference_time = sum(inference_times) / len(inference_times)\n",
    "total_inference_time = sum(inference_times)\n",
    "print(f\"\\nAverage Inference Time: {average_inference_time:.2f} ms\")\n",
    "print(f\"\\nTotal Inference Time: {total_inference_time:.2f} ms\")"
   ]
  },
  {
   "cell_type": "markdown",
   "metadata": {},
   "source": [
    "## Fastai/Pytorch approach"
   ]
  },
  {
   "cell_type": "code",
   "execution_count": null,
   "metadata": {},
   "outputs": [],
   "source": [
    "# Set the path to the Dogs vs. Cats dataset\n",
    "# This is a 37 category pet dataset with roughly 200 images for each class, about 7400 images in total\n",
    "path = untar_data(URLs.PETS)/\"images\"\n",
    "\n",
    "# Created a DataBlock for the dataset, I used a 80/20 split for the data. Also used data augmentation.\n",
    "dblock = DataBlock(blocks=(ImageBlock, CategoryBlock),\n",
    "                   get_items=get_image_files,\n",
    "                   splitter=RandomSplitter(valid_pct=0.2),\n",
    "                   get_y=using_attr(RegexLabeller(r'(.+)_\\d+.jpg$'), 'name'),\n",
    "                   item_tfms=Resize(460),\n",
    "                   batch_tfms=aug_transforms(size=224, min_scale=0.75))"
   ]
  },
  {
   "cell_type": "code",
   "execution_count": null,
   "metadata": {},
   "outputs": [],
   "source": [
    "# Create a DataLoaders object for the dataset\n",
    "dls = dblock.dataloaders(path, bs=64)"
   ]
  },
  {
   "cell_type": "code",
   "execution_count": null,
   "metadata": {},
   "outputs": [],
   "source": [
    "# Shows us an example of what our data looks like\n",
    "dls.valid.show_batch(max_n=4, nrows=1)"
   ]
  },
  {
   "cell_type": "code",
   "execution_count": null,
   "metadata": {},
   "outputs": [],
   "source": [
    "# Load the pre-trained ResNet model\n",
    "learn = cnn_learner(dls, resnet34, pretrained=True, metrics=accuracy)"
   ]
  },
  {
   "cell_type": "code",
   "execution_count": null,
   "metadata": {},
   "outputs": [],
   "source": [
    "learn = vision_learner(dls, resnet18, metrics=error_rate)\n",
    "## fine tuning here is basically the process of using resnet18's pre-trained previous weights for all layers\n",
    "## but the last and we train the last layer using the pets data. We then use our new learning rate to imrpove the weights of all of the \n",
    "## other layers\n",
    "learn.fine_tune(4)"
   ]
  },
  {
   "cell_type": "code",
   "execution_count": null,
   "metadata": {},
   "outputs": [],
   "source": [
    "# Create a list to store the inference times\n",
    "inference_times = []\n",
    "\n",
    "for batch in dls.train + dls.valid:\n",
    "    # Get the batch of images\n",
    "    images = batch[0]\n",
    "\n",
    "    start_time = time.time()\n",
    "    preds = learn.get_preds(dl=batch, with_decoded=True)\n",
    "    end_time = time.time()\n",
    "\n",
    "\n",
    "    # Calculate the inference time in milliseconds\n",
    "    inference_time = (end_time - start_time) * 1000\n",
    "\n",
    "    # Add the inference time to the list\n",
    "    inference_times.append(inference_time)\n",
    "\n",
    "# Calculate the average/total inference time\n",
    "average_inference_time = sum(inference_times) / len(inference_times)\n",
    "total_inference_time = sum(inference_times)\n",
    "print(f\"\\nAverage Inference Time per batch of 64 images: {average_inference_time:.2f} ms\")\n",
    "print(f\"\\nTotal Inference Time: {total_inference_time:.2f} ms\")"
   ]
  }
 ],
 "metadata": {
  "kernelspec": {
   "display_name": "Python 3",
   "language": "python",
   "name": "python3"
  },
  "language_info": {
   "codemirror_mode": {
    "name": "ipython",
    "version": 3
   },
   "file_extension": ".py",
   "mimetype": "text/x-python",
   "name": "python",
   "nbconvert_exporter": "python",
   "pygments_lexer": "ipython3",
   "version": "3.8.5"
  }
 },
 "nbformat": 4,
 "nbformat_minor": 4
}
